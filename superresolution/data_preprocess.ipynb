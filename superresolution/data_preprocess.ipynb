{
 "cells": [
  {
   "cell_type": "code",
   "execution_count": 1,
   "metadata": {},
   "outputs": [],
   "source": [
    "import numpy as np\n",
    "import cv2\n",
    "import glob\n",
    "import tensorflow as tf\n",
    "from tensorflow.keras import Model, Input, regularizers\n",
    "from tensorflow.keras.layers import Dense, Conv2D, MaxPool2D, UpSampling2D, Add, Dropout\n",
    "from tensorflow.keras.callbacks import EarlyStopping, ModelCheckpoint\n",
    "#from keras.preprocessing import image\n",
    "import matplotlib.pyplot as plt\n",
    "from sklearn.model_selection import train_test_split \n",
    "import pickle\n",
    "from tqdm import tqdm"
   ]
  },
  {
   "cell_type": "code",
   "execution_count": 2,
   "metadata": {},
   "outputs": [
    {
     "name": "stdout",
     "output_type": "stream",
     "text": [
      "13233\n"
     ]
    }
   ],
   "source": [
    "face_images = glob.glob('../DATA/super_res/lfw-deepfunneled/lfw-deepfunneled/**/*.jpg')\n",
    "print(len(face_images))"
   ]
  },
  {
   "cell_type": "code",
   "execution_count": 3,
   "metadata": {},
   "outputs": [
    {
     "name": "stdout",
     "output_type": "stream",
     "text": [
      "13233\n",
      "['../DATA/super_res/lfw-deepfunneled/lfw-deepfunneled\\\\Aaron_Eckhart\\\\Aaron_Eckhart_0001.jpg', '../DATA/super_res/lfw-deepfunneled/lfw-deepfunneled\\\\Aaron_Guiel\\\\Aaron_Guiel_0001.jpg', '../DATA/super_res/lfw-deepfunneled/lfw-deepfunneled\\\\Aaron_Patterson\\\\Aaron_Patterson_0001.jpg']\n",
      "100%|██████████| 13233/13233 [00:34<00:00, 382.20it/s]\n",
      "(13233, 160, 160, 3)\n"
     ]
    }
   ],
   "source": [
    "from keras.utils import load_img, img_to_array \n",
    "\n",
    "face_images = glob.glob('../DATA/super_res/lfw-deepfunneled/lfw-deepfunneled/**/*.jpg') #returns path of images\n",
    "print(len(face_images)) #contains 13243 images\n",
    "print(face_images[:3])\n",
    "\n",
    "def read(path):\n",
    "    img = load_img(path, target_size=(160,160,3))\n",
    "    img = img_to_array(img)\n",
    "    img = img/255.\n",
    "    return img\n",
    "\n",
    "# with Pool(10) as p:\n",
    "#     img_array = p.map(read, face_images[:10])\n",
    "\n",
    "img_array = []\n",
    "for path in tqdm(face_images):\n",
    "    img = read(path)\n",
    "    img_array.append(img)\n",
    "\n",
    "print(np.array(img_array).shape)\n"
   ]
  },
  {
   "cell_type": "code",
   "execution_count": 4,
   "metadata": {},
   "outputs": [],
   "source": [
    "import pickle\n",
    "with open('../DATA/super_res/super_res_array.pickle','wb') as f:\n",
    "    pickle.dump(img_array, f)"
   ]
  }
 ],
 "metadata": {
  "kernelspec": {
   "display_name": "computer_vision",
   "language": "python",
   "name": "python3"
  },
  "language_info": {
   "codemirror_mode": {
    "name": "ipython",
    "version": 3
   },
   "file_extension": ".py",
   "mimetype": "text/x-python",
   "name": "python",
   "nbconvert_exporter": "python",
   "pygments_lexer": "ipython3",
   "version": "3.10.14"
  }
 },
 "nbformat": 4,
 "nbformat_minor": 2
}
